{
 "cells": [
  {
   "cell_type": "markdown",
   "id": "34d09275-45c8-4d69-9c8d-2443dd08b7d8",
   "metadata": {},
   "source": [
    "#  Questions"
   ]
  },
  {
   "cell_type": "markdown",
   "id": "0a876a03-28ee-4c4f-baee-0b8a7b79318d",
   "metadata": {},
   "source": [
    "### 1. What is a random variable in probability theory?\n",
    "A random variable is a variable that takes on numerical values determined by the outcome of a random experiment. It maps outcomes from a sample space to real numbers.\n",
    "\n",
    "Example: When tossing a coin, define a random variable X as:\n",
    "\n",
    "##### X = 1 if heads\n",
    "\n",
    "##### X = 0 if tails"
   ]
  },
  {
   "cell_type": "markdown",
   "id": "f72b8146-7551-4d6f-a43f-ed9ba400f333",
   "metadata": {},
   "source": [
    "### 2.What are the types of random variables?\n",
    "Discrete Random Variable: Takes a countable number of values (e.g., 0, 1, 2, ...).\n",
    "\n",
    "Continuous Random Variable: Takes an uncountable range of values, typically any value in an interval (e.g., height, weight)."
   ]
  },
  {
   "cell_type": "markdown",
   "id": "80e39361-9594-4fab-9f11-70865fca2467",
   "metadata": {},
   "source": [
    "### 3. What is the difference between discrete and continuous distributions?\n",
    "##### Discrete Distribution: Deals with variables that have specific, separate values.\n",
    "\n",
    "Example: Binomial, Poisson\n",
    "\n",
    "###### Continuous Distribution: Deals with variables that can take any value within a range.\n",
    "\n",
    "Example: Normal, Exponential"
   ]
  },
  {
   "cell_type": "markdown",
   "id": "b4d58caa-17dd-4a21-835f-b09be55ed3a4",
   "metadata": {},
   "source": [
    "### 4. What are probability distribution functions (PDF)?\n",
    "A Probability Distribution Function (PDF) describes how the probabilities are distributed over the values of a continuous random variable. It is a function, usually denoted as f(x), that helps us understand how likely a variable is to take on a particular value or range of values.\n",
    "\n"
   ]
  },
  {
   "cell_type": "markdown",
   "id": "de1b19c3-4a41-429b-89ab-c8432c18c0d9",
   "metadata": {},
   "source": [
    "### 5. How do cumulative distribution functions (CDF) differ from PDFs?\n",
    "CDF: Gives the probability that a random variable is less than or equal to a value (P(X ≤ x)).\n",
    "\n",
    "PDF: For continuous variables, the area under the curve between two values gives the probability.\n",
    "\n"
   ]
  },
  {
   "cell_type": "markdown",
   "id": "ab7d2c84-2fb2-44ca-81bc-bee4772682fe",
   "metadata": {},
   "source": [
    "### 6.What is a discrete uniform distribution?\n",
    "A discrete uniform distribution is where all outcomes have equal probability.\n",
    "\n",
    "Example: Rolling a fair die (each outcome 1 to 6 has a probability of 1/6).\n",
    "\n"
   ]
  },
  {
   "cell_type": "markdown",
   "id": "7e2fdc7c-7b27-4ed7-8e68-35a6b5a590b3",
   "metadata": {},
   "source": [
    "#### 7.What are the key properties of a Bernoulli distribution?\n",
    "Only two possible outcomes: success (1) or failure (0).\n",
    "\n",
    "Probability of success = p, failure = 1 - p\n",
    "\n",
    "Mean = p, Variance = p(1 - p)\n",
    "\n"
   ]
  },
  {
   "cell_type": "markdown",
   "id": "0933d57f-2b2d-48de-839e-4fbf19d7eb02",
   "metadata": {},
   "source": [
    "### 8.What is the binomial distribution, and how is it used in probability?\n",
    "Models the number of successes in n independent Bernoulli trials.\n",
    "\n",
    "Parameters: n (number of trials), p (success probability).\n",
    "\n",
    "Used in yes/no experiments like: \"What’s the chance of getting 3 heads in 5 tosses?\""
   ]
  },
  {
   "cell_type": "markdown",
   "id": "b2125499-3b7a-4c74-b9ec-43854f4b433e",
   "metadata": {},
   "source": [
    "### 9.What is the Poisson distribution and where is it applied?\n",
    "Models the number of events in a fixed interval of time or space.\n",
    "\n",
    "Used when events happen independently and at a constant rate.\n",
    "\n",
    "Examples: Number of emails per hour, cars passing by in 10 minutes."
   ]
  },
  {
   "cell_type": "markdown",
   "id": "43a34924-8b9d-47f4-932f-79df433dc514",
   "metadata": {},
   "source": [
    "### 10.What is a Continuous Uniform Distribution?\n",
    "The continuous uniform distribution is a type of probability distribution where all values within a certain range are equally likely to occur. It’s the simplest kind of continuous distribution."
   ]
  },
  {
   "cell_type": "markdown",
   "id": "baf9ab4c-a195-480e-9eb9-2503e6612cff",
   "metadata": {},
   "source": [
    "### 11.What are the characteristics of a normal distribution?\n",
    "Symmetrical, bell-shaped curve.\n",
    "\n",
    "Mean = Median = Mode.\n",
    "\n",
    "Defined by: mean (μ) and standard deviation (σ)."
   ]
  },
  {
   "cell_type": "markdown",
   "id": "492b7c86-a695-45d6-83f1-0fdf49871832",
   "metadata": {},
   "source": [
    "### 12. What is the standard normal distribution, and why is it important?\n",
    "A special case of the normal distribution with:\n",
    "\n",
    "Mean = 0\n",
    "\n",
    "Standard Deviation = 1\n",
    "\n",
    "Used for standardizing scores (Z-scores) and hypothesis testing."
   ]
  },
  {
   "cell_type": "markdown",
   "id": "867fca21-61d5-4707-b8a1-f4a562442773",
   "metadata": {},
   "source": [
    "### 13.What is the Central Limit Theorem (CLT), and why is it critical in statistics?\n",
    "CLT: The sampling distribution of the sample mean becomes approximately normal, regardless of the population distribution, as sample size grows (usually n ≥ 30).\n",
    "\n",
    "Importance: Enables use of normal distribution tools (Z-tables) for inference."
   ]
  },
  {
   "cell_type": "markdown",
   "id": "0c2d3199-3e5d-4b47-9b3b-46f1daa3dc8b",
   "metadata": {},
   "source": [
    "### 14.How does the Central Limit Theorem relate to the normal distribution?\n",
    "Even if the data is not normally distributed, the distribution of the sample mean becomes approximately normal thanks to the CLT."
   ]
  },
  {
   "cell_type": "markdown",
   "id": "960b05d1-20d6-41b6-9c94-e73f2f036013",
   "metadata": {},
   "source": [
    "### 15.What is the application of Z statistics in hypothesis testing?\n",
    "Z-statistics help determine whether to reject the null hypothesis.\n",
    "\n",
    "Compare test statistic (Z) to critical values from the standard normal distribution.\n",
    "\n"
   ]
  },
  {
   "cell_type": "markdown",
   "id": "153c5894-06b8-4a0e-8271-1a40e576b43c",
   "metadata": {},
   "source": [
    " ### 16.How do you calculate a Z-score, and what does it represent\n",
    "A Z-score (or standard score) tells you how many standard deviations a particular value is away from the mean of a distribution.\n",
    "\n",
    "It helps standardize different data points so they can be compared on the same scale — especially useful when working with normal distributions.\n",
    "\n",
    "##### Formula to Calculate a Z-Score:\n",
    "Z= (X−μ)/σ"
   ]
  },
  {
   "cell_type": "markdown",
   "id": "9a05b782-df44-4c9f-a879-a2179aaf34bd",
   "metadata": {},
   "source": [
    "### 17.What are point estimates and interval estimates in statistics?\n",
    "Point Estimate: A single value used to estimate a parameter (e.g., sample mean for population mean).\n",
    "\n",
    "Interval Estimate: A range (like a confidence interval) that likely contains the parameter."
   ]
  },
  {
   "cell_type": "markdown",
   "id": "3d514410-8f8c-4679-880b-958518a581ff",
   "metadata": {},
   "source": [
    "### 18. What is the significance of confidence intervals in statistical analysis?\n",
    "A confidence interval gives a range of plausible values for an unknown parameter.\n",
    "\n",
    "Example: “We are 95% confident that the population mean lies between A and B.”\n",
    "\n"
   ]
  },
  {
   "cell_type": "markdown",
   "id": "1c2871cf-7275-4f89-b25d-4cdeb93fc9fa",
   "metadata": {},
   "source": [
    "### 19. What is the relationship between a Z-score and a confidence interval?\n",
    "The Z-score determines how \"wide\" the confidence interval is.\n",
    "\n",
    "A higher confidence level (like 99%) requires a larger Z-score, resulting in a wider interval, because you're aiming to be more certain.\n",
    "\n",
    "A lower confidence level (like 90%) uses a smaller Z-score, leading to a narrower interval, with less certainty."
   ]
  },
  {
   "cell_type": "markdown",
   "id": "1b8740c4-1e47-492e-8220-4c8dcc0aa556",
   "metadata": {},
   "source": [
    "### 20.How are Z-scores used to compare different distributions?\n",
    "Z-scores standardize values from different distributions, allowing comparison on a common scale (in standard deviations)."
   ]
  },
  {
   "cell_type": "markdown",
   "id": "75a6665b-5833-4550-819a-62e49668751b",
   "metadata": {},
   "source": [
    "### 21. What are the assumptions for applying the Central Limit Theorem?\n",
    "Random Sampling\n",
    "\n",
    "Independent observations\n",
    "\n",
    "Sample size is sufficiently large (n ≥ 30 for skewed distributions)\n",
    "\n",
    "Finite variance\n",
    "\n"
   ]
  },
  {
   "cell_type": "markdown",
   "id": "67444c1b-8fea-4738-9184-fedb94a0f971",
   "metadata": {},
   "source": [
    "#### 22.What is the concept of expected value in a probability distribution?\n",
    "The expected value (also called the mean) of a random variable is a measure of central tendency that represents the long-run average outcome of a random process, if the experiment were repeated many times.\n"
   ]
  },
  {
   "cell_type": "markdown",
   "id": "35be7e5c-d867-4949-929d-d9eef4a7a2a6",
   "metadata": {},
   "source": [
    "### 23.How does a probability distribution relate to the expected outcome of a random variable?\n",
    "The probability distribution provides the probabilities for each possible outcome, and the expected value is the weighted average of those outcomes based on their probabilities.\n",
    "\n"
   ]
  }
 ],
 "metadata": {
  "kernelspec": {
   "display_name": "Python 3 (ipykernel)",
   "language": "python",
   "name": "python3"
  },
  "language_info": {
   "codemirror_mode": {
    "name": "ipython",
    "version": 3
   },
   "file_extension": ".py",
   "mimetype": "text/x-python",
   "name": "python",
   "nbconvert_exporter": "python",
   "pygments_lexer": "ipython3",
   "version": "3.12.6"
  }
 },
 "nbformat": 4,
 "nbformat_minor": 5
}
